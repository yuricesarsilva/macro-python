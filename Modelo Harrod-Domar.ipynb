{
 "cells": [
  {
   "cell_type": "markdown",
   "metadata": {},
   "source": [
    "# Modelo de Crescimento Harrod-Domar"
   ]
  },
  {
   "cell_type": "markdown",
   "metadata": {},
   "source": [
    "## 1. Chamando os pacotes:"
   ]
  },
  {
   "cell_type": "code",
   "execution_count": null,
   "metadata": {},
   "outputs": [],
   "source": [
    "import scipy.integrate                # Pacote utilizado para solucionar as equações diferenciais.\n",
    "import numpy                          # Pacote utilizado para construção de matrizes e vetores.\n",
    "import matplotlib.pyplot as plt       # Biblioteca para a construção de gráficos."
   ]
  },
  {
   "cell_type": "markdown",
   "metadata": {},
   "source": [
    "## 2. Solução das equações diferenciais do modelo:"
   ]
  },
  {
   "cell_type": "markdown",
   "metadata": {},
   "source": [
    "### 2.1. Definição das equações diferenciais (modelo em termos per capita):"
   ]
  },
  {
   "cell_type": "code",
   "execution_count": null,
   "metadata": {},
   "outputs": [],
   "source": [
    "def Modelo_HD(var, t, s, n, delta, alpha, beta):        # Definição da função (variáveis, tempo, parâmetros).\n",
    "    k, L = var\n",
    "    \n",
    "    dk_dt = s*min(alpha*k,beta)-(n+delta)*k             # Equação fundamenta do crescimento econômico. \n",
    "    dL_dt = n*L                                         # Equação da taxa de crescimento da população.\n",
    "      \n",
    "    return ([dk_dt, dL_dt])                          "
   ]
  },
  {
   "cell_type": "markdown",
   "metadata": {},
   "source": [
    "### 2.2. Definição dos valores dos parâmetros, da variável tempo e da solução da função:"
   ]
  },
  {
   "cell_type": "code",
   "execution_count": null,
   "metadata": {},
   "outputs": [],
   "source": [
    "alpha = 1           # Parâmetro da função de produção: y = min(alpha*k, beta).\n",
    "beta = 1            # Parâmetro da função de produção: y = min(alpha*k, beta).\n",
    "s = 0.18            # Propensão marginal a poupar: S = s*Y.\n",
    "n = 0.1             # Taxa de crescimento da população: (dL/dt)*(1/L) = n.\n",
    "delta = 0.08        # Taxa de depreciação do estoque de capital: dK/dt = I - delta*K.\n",
    "k0 = 1.2            # Estoque de capital incial.\n",
    "L0 = 2              # Tamanho da população incial.\n",
    "\n",
    "t = numpy.linspace(0, 50, 1000)            # Tempo utilizado na construção dos gráficos das variéveis em termos per capita.\n",
    "t2 = numpy.linspace(0, 100, 1000)          # Tempo utilizado na construção dos gráficos das demais variéveis.   \n",
    "\n",
    "solution = scipy.integrate.odeint(Modelo_HD, [k0, L0], t, args=(s, n, delta, alpha, beta)) # Solução das equações diferenciais.\n",
    "solution = numpy.array(solution)                                                           # Construção da matriz de solução.   "
   ]
  },
  {
   "cell_type": "markdown",
   "metadata": {},
   "source": [
    "## 3. Definição das variáveis do modelo:"
   ]
  },
  {
   "cell_type": "code",
   "execution_count": null,
   "metadata": {},
   "outputs": [],
   "source": [
    "k = solution[:,0]                        # Estoque de capital per capita.\n",
    "L = solution[:,1]                        # Tamanho da população (trabalho utilizado na função de produção). \n",
    "y = numpy.minimum(alpha*k, beta)         # Produção per capita.\n",
    "K = k*L                                  # Estoque de capital.\n",
    "Y = y*L                                  # Produção.\n",
    "I = s*Y                                  # Investimento.\n",
    "S = I                                    # Poupança.\n",
    "C = Y-I                                  # Consumo."
   ]
  },
  {
   "cell_type": "markdown",
   "metadata": {},
   "source": [
    "## 4. Gráficos:"
   ]
  },
  {
   "cell_type": "markdown",
   "metadata": {},
   "source": [
    "### 4.1. Gráfico das variáveis em termos per capita:"
   ]
  },
  {
   "cell_type": "code",
   "execution_count": null,
   "metadata": {},
   "outputs": [],
   "source": [
    "plt.figure(figsize=[8,6])\n",
    "plt.subplot(1,1,1)\n",
    "plt.plot(t, k, label='k(t) - Capital per capita')\n",
    "plt.plot(t, y, label='y(t) - Produção per capita')\n",
    "plt.legend()\n",
    "plt.title('Variáveis per capita', fontsize=14)\n",
    "plt.grid()\n",
    "\n",
    "plt.suptitle('Modelo Harod-Domar', fontsize=20)\n",
    "plt.show()"
   ]
  },
  {
   "cell_type": "markdown",
   "metadata": {},
   "source": [
    "### 4.2. Gráfico das demais variáveis:"
   ]
  },
  {
   "cell_type": "code",
   "execution_count": null,
   "metadata": {},
   "outputs": [],
   "source": [
    "plt.figure(figsize=[15,8])\n",
    "plt.subplot(2,3,1)\n",
    "plt.plot(t2, C)\n",
    "plt.title('C(t) - Consumo', fontsize=16)\n",
    "plt.grid()\n",
    "\n",
    "plt.subplot(2,3,2)\n",
    "plt.plot(t2, I)\n",
    "plt.title('I(t) - Investimento', fontsize=16)\n",
    "plt.grid()\n",
    "\n",
    "plt.subplot(2,3,3)\n",
    "plt.plot(t2, S)\n",
    "plt.title('S(t) - Poupança', fontsize=16)\n",
    "plt.grid()\n",
    "\n",
    "plt.subplot(2,3,4)\n",
    "plt.plot(t2, Y)\n",
    "plt.title('Y(t) - Produção', fontsize=16)\n",
    "plt.grid()\n",
    "\n",
    "plt.subplot(2,3,5)\n",
    "plt.plot(t2, K)\n",
    "plt.title('K(t) - Capital', fontsize=16)\n",
    "plt.grid()\n",
    "\n",
    "plt.subplot(2,3,6)\n",
    "plt.plot(t2, L)\n",
    "plt.title('L(t) - Trabalho', fontsize=16)\n",
    "plt.grid()\n",
    "\n",
    "plt.suptitle('Modelo Harod-Domar', fontsize=22)\n",
    "plt.show()"
   ]
  }
 ],
 "metadata": {
  "kernelspec": {
   "display_name": "Python 3",
   "language": "python",
   "name": "python3"
  },
  "language_info": {
   "codemirror_mode": {
    "name": "ipython",
    "version": 3
   },
   "file_extension": ".py",
   "mimetype": "text/x-python",
   "name": "python",
   "nbconvert_exporter": "python",
   "pygments_lexer": "ipython3",
   "version": "3.7.6"
  }
 },
 "nbformat": 4,
 "nbformat_minor": 4
}
